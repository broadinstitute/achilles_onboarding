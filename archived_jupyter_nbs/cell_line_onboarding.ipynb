{
 "cells": [
  {
   "cell_type": "code",
   "execution_count": 1,
   "id": "documentary-cooking",
   "metadata": {},
   "outputs": [],
   "source": [
    "import pandas as pd\n",
    "from openpyxl import load_workbook"
   ]
  },
  {
   "cell_type": "code",
   "execution_count": 2,
   "id": "toxic-elements",
   "metadata": {},
   "outputs": [],
   "source": [
    "#load csv input of information for new cell lines to onboard\n",
    "#csv input columns should be as follows:\n",
    "    #COLUMN NAMES MUST BE EXACT, order is not important\n",
    "    # Achilles Screening Project ID, Stripped Cell line name, Culture Medium, Culture Type, Arxspan Reg ID, Virus Pool Name\n",
    "def load_csv_input(file_path, file_name):\n",
    "    input_file = pd.read_csv(file_path + file_name, low_memory = False)\n",
    "    return input_file"
   ]
  },
  {
   "cell_type": "code",
   "execution_count": 3,
   "id": "prescribed-stomach",
   "metadata": {},
   "outputs": [],
   "source": [
    "#function to create new cell line sheet using metadata\n",
    "    #function input should be a pandas series with information: Achilles Screening Project ID, Stripped Cell line name, Culture Medium, Culture Type, Arxspan Reg ID, Virus Pool Name\n",
    "def create_new_sheet(onboarding_metadata): \n",
    "    #variables for each piece of information in metadata\n",
    "    metadata_dict = {\n",
    "        'name' : onboarding_metadata['Stripped Cell line name'].upper(),\n",
    "        'library' : onboarding_metadata['Virus Pool Name'].replace('-', ''),\n",
    "        'asp_id' : onboarding_metadata['Achilles Screening Project ID'],\n",
    "        'media' : onboarding_metadata['Culture Medium'],\n",
    "        'culture_type' : onboarding_metadata['Culture Type'],\n",
    "        'arx_id' : onboarding_metadata['Arxspan Reg ID'],\n",
    "    }\n",
    "    \n",
    "    #template file path\n",
    "    template_file_path = r'/Volumes/GoogleDrive/Shared drives/GPP Cloud /Screening /Achilles/CRISPR/CRISPR screens/'\n",
    "    template_file_name = 'CELL LINE TEMPLATE {}.xlsx'.format(metadata_dict['library'].upper())\n",
    "\n",
    "    #Open template for specific library\n",
    "    template = load_workbook(template_file_path + template_file_name)\n",
    "    template_sheet = template['Cell Line Information']#.active\n",
    "    \n",
    "    # dictionary for each datapoint and corresponding cell in the excel file - change the cell positions if the template positions is changed in any way\n",
    "    excel_cell_positions = {'name' : 'D3', 'library' : 'D25', 'asp_id': 'D5', \n",
    "                            'media' : 'D9', 'culture_type' : 'D11', 'arx_id' : 'D4'}\n",
    "    \n",
    "    #input information into corresponding cell in file\n",
    "    for key, value in excel_cell_positions.items():\n",
    "        template_sheet[value] = metadata_dict[key]\n",
    "\n",
    "    #save new sheet with correct file name\n",
    "    output_file_path = r'/Volumes/GoogleDrive/Shared drives/GPP Cloud /Screening /Achilles/CRISPR/CRISPR screens/Cell Line Onboarding/'\n",
    "    output_file_name = '{}_{}_{}.xlsx'.format(metadata_dict['name'].upper(), metadata_dict['library'].upper(), metadata_dict['asp_id'].upper())\n",
    "    # Save the spreadsheet\n",
    "    template.save(filename = output_file_path + output_file_name)\n",
    "    print('Succesfully created sheet for {} {}'.format(metadata_dict['name'].upper(), metadata_dict['library'].upper()))"
   ]
  },
  {
   "cell_type": "code",
   "execution_count": null,
   "id": "settled-zealand",
   "metadata": {},
   "outputs": [],
   "source": []
  }
 ],
 "metadata": {
  "kernelspec": {
   "display_name": "Python 3",
   "language": "python",
   "name": "python3"
  },
  "language_info": {
   "codemirror_mode": {
    "name": "ipython",
    "version": 3
   },
   "file_extension": ".py",
   "mimetype": "text/x-python",
   "name": "python",
   "nbconvert_exporter": "python",
   "pygments_lexer": "ipython3",
   "version": "3.7.3"
  }
 },
 "nbformat": 4,
 "nbformat_minor": 5
}
