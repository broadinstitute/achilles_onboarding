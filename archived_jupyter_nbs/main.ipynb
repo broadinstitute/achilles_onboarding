{
 "cells": [
  {
   "cell_type": "markdown",
   "id": "manual-investigator",
   "metadata": {},
   "source": [
    "MAIN FUNCTION TO CREATE NEW CELL LINE SHEETS FROM AN INPUT CSV FILE"
   ]
  },
  {
   "cell_type": "code",
   "execution_count": 1,
   "id": "armed-committee",
   "metadata": {},
   "outputs": [],
   "source": [
    "def main():\n",
    "    #import relevant modules and functions\n",
    "    import pandas as pd\n",
    "    from openpyxl import load_workbook\n",
    "    from ipynb.fs.full.cell_line_onboarding import load_csv_input, create_new_sheet\n",
    "    \n",
    "    #create pd df from input information csv file\n",
    "    input_file_path = r'input_onboarding_csv/'   #path of input file\n",
    "    input_file_name = 'onboarding_20220203.csv'#name of input file, be sure to include .csv\n",
    "    onboarding_data = load_csv_input(input_file_path, input_file_name)\n",
    "    \n",
    "    #variables to keep track of succesful creations and fails\n",
    "    fail = []\n",
    "    success = []\n",
    "    \n",
    "    #iterate over inputted csv file - each row contains relevant information for that cell line\n",
    "    for index, row in onboarding_data.iterrows():\n",
    "        data = row.to_dict()\n",
    "        \n",
    "        try: \n",
    "            print('Creating excel file for {}...'.format(data['Stripped Cell line name']))\n",
    "            create_new_sheet(data)\n",
    "            success.append(data['Stripped Cell line name'])\n",
    "        except Exception:\n",
    "            print('Failed to create excel file for {}'.format(data['Stripped Cell line name']))\n",
    "            fail.append(data['Stripped Cell line name'])\n",
    "            pass\n",
    "        \n",
    "    #print information for which sheets were created and which were not\n",
    "    print('____________________________________________________________________________________________\\n')              \n",
    "    print('Created {} cell line sheets for: {}'.format(len(success), success))\n",
    "    print('Failed to create {} cell line sheets for: {}'.format(len(fail), fail))    "
   ]
  },
  {
   "cell_type": "code",
   "execution_count": 2,
   "id": "collectible-detroit",
   "metadata": {},
   "outputs": [
    {
     "name": "stdout",
     "output_type": "stream",
     "text": [
      "Creating excel file for VMRCMELG...\n",
      "Succesfully created sheet for VMRCMELG HUMAGNE\n",
      "____________________________________________________________________________________________\n",
      "\n",
      "Created 1 cell line sheets for: ['VMRCMELG']\n",
      "Failed to create 0 cell line sheets for: []\n"
     ]
    }
   ],
   "source": [
    "main()"
   ]
  },
  {
   "cell_type": "code",
   "execution_count": null,
   "id": "innocent-madagascar",
   "metadata": {},
   "outputs": [],
   "source": []
  }
 ],
 "metadata": {
  "kernelspec": {
   "display_name": "Python 3",
   "language": "python",
   "name": "python3"
  },
  "language_info": {
   "codemirror_mode": {
    "name": "ipython",
    "version": 3
   },
   "file_extension": ".py",
   "mimetype": "text/x-python",
   "name": "python",
   "nbconvert_exporter": "python",
   "pygments_lexer": "ipython3",
   "version": "3.7.3"
  }
 },
 "nbformat": 4,
 "nbformat_minor": 5
}
